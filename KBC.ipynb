{
 "cells": [
  {
   "cell_type": "code",
   "execution_count": null,
   "id": "09153eca",
   "metadata": {},
   "outputs": [
    {
     "name": "stdout",
     "output_type": "stream",
     "text": [
      "                                 Welcome to Kaun Banege Crorepati!!                                 \n",
      "                                  Main hu aapka host aur guidepost                                  \n",
      "Answer the given questions in words only\n",
      "1.Which state launched a scheme to provide Rs 10,000 stipend per annum for females pursuing post-graduate programmes? \n",
      " [A] Gujarat\n",
      " [B] Assam\n",
      " [C] Tamil Nadu\n",
      " [D] Karnataka\n",
      "\n"
     ]
    }
   ],
   "source": [
    "a=\"Welcome to Kaun Banege Crorepati!!\" \n",
    "b=\"Main hu aapka host aur guidepost\"\n",
    "c=\"Answer the given questions in words only\"\n",
    "x=a.center(100)\n",
    "print(x)\n",
    "x1=b.center(100)\n",
    "print(x1)\n",
    "print(c)\n",
    "\n",
    "l1=[\"1.Which state launched a scheme to provide Rs 10,000 stipend per annum for females pursuing post-graduate programmes? \\n [A] Gujarat\\n [B] Assam\\n [C] Tamil Nadu\\n [D] Karnataka\\n\",\n",
    "    \"2. Which company has developed a new dialogue-based chatbot named ChatGPT? \\n[A] Google\\n[B] Microsoft\\n[C] OpenAI\\n[D] Meta\\n\",\n",
    "   \"3.Which two teams played the final match of the FIFA Football World Cup 2022?\\n[A] France-Argentina\\n[B] France-Morocco\\n[C] Morocco-Argentina\\n[D] Croatia -Argentina\\n\",\n",
    "   \"4.Which team won the FIH Women’s Nations Cup 2022 in Valencia, Spain?\\n[A] Spain\\n[B] India\\n[C] China\\n[D] Australia\\n\",\n",
    "   \"5.Goa Liberation Day is observed in which month?\\n[A] December\\n[B] February\\n[C] June\\n[D] September\\n\"]\n",
    "l2=[\"Assam\",\"OpenAI\",\"France-Argentina\",\"India\",\" December\"]\n",
    "\n",
    "money=0\n",
    "for i in l1: \n",
    "    \n",
    "    print(l1[0])\n",
    "    ans=input(\"Give us your answer \\n\")\n",
    "    if ans==l2[0]:\n",
    "        print(\"Sahi javaab\")\n",
    "        money=money+1000\n",
    "    else:\n",
    "        print(\"Sorry, Aapka safar yahi khatam hota hain\")\n",
    "        break\n",
    "    \n",
    "    print(l1[1])\n",
    "    ans=input(\"Give us your answer\\n\")\n",
    "    if ans==l2[1]:\n",
    "        print(\"Sahi javaab\")\n",
    "        money=money+1000\n",
    "    else:\n",
    "        print(\"Sorry, Aapka safar yahi khatam hota hain\")\n",
    "        break\n",
    "    \n",
    "    print(l1[2])\n",
    "    ans=input(\"Give us your answer \\n\") \n",
    "    if ans==l2[2]:\n",
    "        print(\"Sahi javaab\")\n",
    "        money=money+1000\n",
    "    else:\n",
    "        print(\"Sorry, Aapka safar yahi khatam hota hain\")\n",
    "        break\n",
    "    \n",
    "    print(l1[3])\n",
    "    ans=input(\"Give us your answer \\n\")\n",
    "    if ans==l2[3]:\n",
    "        print(\"Sahi javaab\")\n",
    "        money=money+1000\n",
    "    else:\n",
    "        print(\"Sorry, Aapka safar yahi khatam hota hain\")\n",
    "        break\n",
    "    \n",
    "    print(l1[4])\n",
    "    ans=input(\"Give us your answer \\n\")\n",
    "    if ans==l2[4]:\n",
    "        print(\"Sahi javaab\")\n",
    "        money=money+1000\n",
    "    else:\n",
    "        print(\"Sorry, Aapka safar yahi khatam hota hain\")   \n",
    "        break\n",
    "\n",
    "print(\"The money your taking back home is ₹\",money)"
   ]
  },
  {
   "cell_type": "code",
   "execution_count": null,
   "id": "b07a4e3d",
   "metadata": {},
   "outputs": [],
   "source": []
  },
  {
   "cell_type": "code",
   "execution_count": null,
   "id": "eb6724a5",
   "metadata": {},
   "outputs": [],
   "source": []
  }
 ],
 "metadata": {
  "kernelspec": {
   "display_name": "Python 3 (ipykernel)",
   "language": "python",
   "name": "python3"
  },
  "language_info": {
   "codemirror_mode": {
    "name": "ipython",
    "version": 3
   },
   "file_extension": ".py",
   "mimetype": "text/x-python",
   "name": "python",
   "nbconvert_exporter": "python",
   "pygments_lexer": "ipython3",
   "version": "3.9.13"
  }
 },
 "nbformat": 4,
 "nbformat_minor": 5
}
