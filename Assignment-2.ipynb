{
 "cells": [
  {
   "cell_type": "code",
   "execution_count": 1,
   "id": "85c531ca",
   "metadata": {},
   "outputs": [
    {
     "name": "stdout",
     "output_type": "stream",
     "text": [
      "Enter your own paragraph \n",
      "No! All of the paragraphs in the generator are written by humans, not computers. When first building this generator we thought about using computers to generate the paragraphs, but they weren't very good and many times didn't make any sense at all. We therefore took the time to create paragraphs specifically for this generator to make it the best that we could.\n",
      "The total number of words in the given input are 63\n"
     ]
    }
   ],
   "source": [
    "para=input(\"Enter your own paragraph \\n\")\n",
    "\n",
    "def wordcounter(): #Program to count the words\n",
    "    count=1\n",
    "    words=para.split()\n",
    "    if not words:       #Handling empty input\n",
    "        print(\"Empty input\")\n",
    "    else:\n",
    "        for word in words:\n",
    "            count=count+1\n",
    "        print(f\"The total number of words in the given input are {count}\")\n",
    "    \n",
    "wordcounter()"
   ]
  },
  {
   "cell_type": "code",
   "execution_count": null,
   "id": "d8227b26",
   "metadata": {},
   "outputs": [],
   "source": []
  },
  {
   "cell_type": "code",
   "execution_count": null,
   "id": "add15135",
   "metadata": {},
   "outputs": [],
   "source": []
  }
 ],
 "metadata": {
  "kernelspec": {
   "display_name": "Python 3 (ipykernel)",
   "language": "python",
   "name": "python3"
  },
  "language_info": {
   "codemirror_mode": {
    "name": "ipython",
    "version": 3
   },
   "file_extension": ".py",
   "mimetype": "text/x-python",
   "name": "python",
   "nbconvert_exporter": "python",
   "pygments_lexer": "ipython3",
   "version": "3.9.13"
  }
 },
 "nbformat": 4,
 "nbformat_minor": 5
}
